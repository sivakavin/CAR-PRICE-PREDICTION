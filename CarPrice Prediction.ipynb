{
 "cells": [
  {
   "cell_type": "markdown",
   "metadata": {},
   "source": [
    "## Problem Statement\n",
    "\n",
    "After collecting the data, you need to build a machine learning model. Before model building do all data pre-processing steps. Try different models with different hyper parameters and select the best model.\n",
    "Follow the complete life cycle of data science. Include all the steps like.\n",
    "1. Data Cleaning\n",
    "2. Exploratory Data Analysis\n",
    "3. Data Pre-processing\n",
    "4. Model Building\n",
    "5. Model Evaluation\n",
    "6. Selecting the best model"
   ]
  },
  {
   "cell_type": "code",
   "execution_count": 1,
   "metadata": {},
   "outputs": [],
   "source": [
    "#importing required lib\n",
    "import pandas as pd\n",
    "import numpy as np\n",
    "import matplotlib.pyplot as plt\n",
    "import seaborn as sns\n"
   ]
  },
  {
   "cell_type": "code",
   "execution_count": 2,
   "metadata": {},
   "outputs": [
    {
     "data": {
      "text/html": [
       "<div>\n",
       "<style scoped>\n",
       "    .dataframe tbody tr th:only-of-type {\n",
       "        vertical-align: middle;\n",
       "    }\n",
       "\n",
       "    .dataframe tbody tr th {\n",
       "        vertical-align: top;\n",
       "    }\n",
       "\n",
       "    .dataframe thead th {\n",
       "        text-align: right;\n",
       "    }\n",
       "</style>\n",
       "<table border=\"1\" class=\"dataframe\">\n",
       "  <thead>\n",
       "    <tr style=\"text-align: right;\">\n",
       "      <th></th>\n",
       "      <th>Brand</th>\n",
       "      <th>Model</th>\n",
       "      <th>Variant</th>\n",
       "      <th>Year</th>\n",
       "      <th>driven kilometers</th>\n",
       "      <th>fuel</th>\n",
       "      <th>Transmission</th>\n",
       "      <th>number of owners</th>\n",
       "      <th>location</th>\n",
       "      <th>Price</th>\n",
       "    </tr>\n",
       "  </thead>\n",
       "  <tbody>\n",
       "    <tr>\n",
       "      <th>0</th>\n",
       "      <td>Mah</td>\n",
       "      <td>Logan</td>\n",
       "      <td>Others</td>\n",
       "      <td>2010.0</td>\n",
       "      <td>127000.0 KM</td>\n",
       "      <td>DIESEL</td>\n",
       "      <td>MANUAL</td>\n",
       "      <td>1st</td>\n",
       "      <td>Jaysingpur</td>\n",
       "      <td>2,50,000</td>\n",
       "    </tr>\n",
       "    <tr>\n",
       "      <th>1</th>\n",
       "      <td>Hyundai</td>\n",
       "      <td>Santro X</td>\n",
       "      <td>NaN</td>\n",
       "      <td>2007.0</td>\n",
       "      <td>45000.0 KM</td>\n",
       "      <td>PETROL</td>\n",
       "      <td>MANUAL</td>\n",
       "      <td>2nd</td>\n",
       "      <td>Coimbatore</td>\n",
       "      <td>2,10,000</td>\n",
       "    </tr>\n",
       "    <tr>\n",
       "      <th>2</th>\n",
       "      <td>Ford</td>\n",
       "      <td>Ecosport</td>\n",
       "      <td>1.5 Diesel Trend</td>\n",
       "      <td>2015.0</td>\n",
       "      <td>20 KM</td>\n",
       "      <td>DIESEL</td>\n",
       "      <td>MANUAL</td>\n",
       "      <td>2nd</td>\n",
       "      <td>Wardha</td>\n",
       "      <td>6,51,000</td>\n",
       "    </tr>\n",
       "    <tr>\n",
       "      <th>3</th>\n",
       "      <td>Maruti Suzuki</td>\n",
       "      <td>Alto K10</td>\n",
       "      <td>VXI Airbag</td>\n",
       "      <td>2016.0</td>\n",
       "      <td>58734 KM</td>\n",
       "      <td>PETROL</td>\n",
       "      <td>MANUAL</td>\n",
       "      <td>First</td>\n",
       "      <td>Bengaluru</td>\n",
       "      <td>3,30,000</td>\n",
       "    </tr>\n",
       "    <tr>\n",
       "      <th>4</th>\n",
       "      <td>Maruti Suzuki</td>\n",
       "      <td>Swift Dzire Tour</td>\n",
       "      <td>LDI</td>\n",
       "      <td>2018.0</td>\n",
       "      <td>61000.0 KM</td>\n",
       "      <td>DIESEL</td>\n",
       "      <td>MANUAL</td>\n",
       "      <td>1st</td>\n",
       "      <td>Visakhapatnam</td>\n",
       "      <td>6,20,000</td>\n",
       "    </tr>\n",
       "  </tbody>\n",
       "</table>\n",
       "</div>"
      ],
      "text/plain": [
       "            Brand              Model           Variant    Year  \\\n",
       "0             Mah             Logan             Others  2010.0   \n",
       "1        Hyundai            Santro X               NaN  2007.0   \n",
       "2           Ford           Ecosport   1.5 Diesel Trend  2015.0   \n",
       "3  Maruti Suzuki           Alto K10         VXI Airbag  2016.0   \n",
       "4  Maruti Suzuki   Swift Dzire Tour                LDI  2018.0   \n",
       "\n",
       "  driven kilometers    fuel Transmission number of owners        location  \\\n",
       "0       127000.0 KM  DIESEL       MANUAL              1st      Jaysingpur   \n",
       "1        45000.0 KM  PETROL       MANUAL              2nd      Coimbatore   \n",
       "2             20 KM  DIESEL       MANUAL              2nd          Wardha   \n",
       "3          58734 KM  PETROL       MANUAL            First       Bengaluru   \n",
       "4        61000.0 KM  DIESEL       MANUAL              1st   Visakhapatnam   \n",
       "\n",
       "      Price  \n",
       "0  2,50,000  \n",
       "1  2,10,000  \n",
       "2  6,51,000  \n",
       "3  3,30,000  \n",
       "4  6,20,000  "
      ]
     },
     "execution_count": 2,
     "metadata": {},
     "output_type": "execute_result"
    }
   ],
   "source": [
    "# Read the dataset\n",
    "dataset = pd.read_csv(\"Car_Data.csv\",index_col=0,na_values=\"-\")\n",
    "dataset.head()"
   ]
  },
  {
   "cell_type": "code",
   "execution_count": 3,
   "metadata": {},
   "outputs": [],
   "source": [
    "# Copying dataset\n",
    "data = dataset.copy()"
   ]
  },
  {
   "cell_type": "code",
   "execution_count": 4,
   "metadata": {},
   "outputs": [
    {
     "data": {
      "text/plain": [
       "(455, 10)"
      ]
     },
     "execution_count": 4,
     "metadata": {},
     "output_type": "execute_result"
    }
   ],
   "source": [
    "data.shape"
   ]
  },
  {
   "cell_type": "code",
   "execution_count": 6,
   "metadata": {},
   "outputs": [
    {
     "data": {
      "text/plain": [
       "Brand                20\n",
       "Model                20\n",
       "Variant              39\n",
       "Year                 20\n",
       "driven kilometers    20\n",
       "fuel                 20\n",
       "Transmission         20\n",
       "number of owners     20\n",
       "location             20\n",
       "Price                20\n",
       "dtype: int64"
      ]
     },
     "execution_count": 6,
     "metadata": {},
     "output_type": "execute_result"
    }
   ],
   "source": [
    "data.isnull().sum()"
   ]
  },
  {
   "cell_type": "code",
   "execution_count": 7,
   "metadata": {},
   "outputs": [
    {
     "name": "stdout",
     "output_type": "stream",
     "text": [
      "Maruti Suzuki     122\n",
      "Hyundai            87\n",
      "Honda              42\n",
      "Mah                35\n",
      "Toyota             28\n",
      "Ford               23\n",
      "Tata               14\n",
      "Renault            13\n",
      "Volkswagen         13\n",
      "Mercedes-Benz      10\n",
      "Chevrolet          10\n",
      "BMW                 7\n",
      "Skoda               6\n",
      "Nissan              5\n",
      "Audi                5\n",
      "Kia                 3\n",
      "Jaguar              2\n",
      "Land Rover          2\n",
      "Datsun              2\n",
      "Volvo               1\n",
      "Mitsubishi          1\n",
      "Other Brands        1\n",
      "Porsche             1\n",
      "Isuzu               1\n",
      "Jeep                1\n",
      "Name: Brand, dtype: int64\n",
      "--------------------------------------\n",
      "City            16\n",
      "Swift Dzire     16\n",
      "Swift           13\n",
      "Wagon R         12\n",
      "Ecosport        11\n",
      "                ..\n",
      "Sail U-VA        1\n",
      "S Cross          1\n",
      "MU-X             1\n",
      "Sail             1\n",
      "CrossPolo        1\n",
      "Name: Model, Length: 125, dtype: int64\n",
      "--------------------------------------\n",
      "Others                14\n",
      "LXI                   11\n",
      "VXI                   11\n",
      "VDI                    8\n",
      "LXi                    5\n",
      "                      ..\n",
      "Petrol RXS CVT         1\n",
      "2000-2005 LXi BSII     1\n",
      "Magna 1.1 CRDi         1\n",
      "HTX G                  1\n",
      "XL P                   1\n",
      "Name: Variant, Length: 317, dtype: int64\n",
      "--------------------------------------\n",
      "2016.0    48\n",
      "2012.0    46\n",
      "2017.0    44\n",
      "2018.0    40\n",
      "2014.0    37\n",
      "2015.0    35\n",
      "2013.0    30\n",
      "2011.0    28\n",
      "2010.0    23\n",
      "2007.0    23\n",
      "2009.0    18\n",
      "2008.0    17\n",
      "2019.0    16\n",
      "2020.0    11\n",
      "2006.0     5\n",
      "2004.0     4\n",
      "2005.0     3\n",
      "2021.0     3\n",
      "1998.0     1\n",
      "2003.0     1\n",
      "2001.0     1\n",
      "2002.0     1\n",
      "Name: Year, dtype: int64\n",
      "--------------------------------------\n",
      "60000.0 KM    8\n",
      "80000.0 KM    7\n",
      "38000.0 KM    7\n",
      "62000.0 KM    6\n",
      "61000.0 KM    6\n",
      "             ..\n",
      "33506 KM      1\n",
      "56811.0 KM    1\n",
      "53800.0 KM    1\n",
      "6097.0 KM     1\n",
      "76,000 KM     1\n",
      "Name: driven kilometers, Length: 281, dtype: int64\n",
      "--------------------------------------\n",
      "PETROL                           221\n",
      "DIESEL                           192\n",
      "CNG & HYBRIDS                     13\n",
      "CNG                                3\n",
      "LPG                                2\n",
      "--                                 2\n",
      "ELECTRIC                           1\n",
      "PETROL/COMPRESSED NATURAL GAS      1\n",
      "Name: fuel, dtype: int64\n",
      "--------------------------------------\n",
      "MANUAL       359\n",
      "AUTOMATIC     73\n",
      "--             3\n",
      "Name: Transmission, dtype: int64\n",
      "--------------------------------------\n",
      "1st       251\n",
      "2nd       100\n",
      "First      23\n",
      "Second     21\n",
      "3rd        17\n",
      "--         15\n",
      "Third       5\n",
      "4+          1\n",
      "Fourth      1\n",
      "4th         1\n",
      "Name: number of owners, dtype: int64\n",
      "--------------------------------------\n",
      " Mumbai         48\n",
      " Delhi          46\n",
      " Kolkata        28\n",
      " Bengaluru      21\n",
      " Chennai        19\n",
      "                ..\n",
      " Amritsar        1\n",
      " Wardha          1\n",
      " Nava Bhildi     1\n",
      " Gandhinagar     1\n",
      " Karnal          1\n",
      "Name: location, Length: 105, dtype: int64\n",
      "--------------------------------------\n",
      "3,25,000     9\n",
      "2,50,000     7\n",
      "3,00,000     7\n",
      "4,50,000     7\n",
      "2,10,000     6\n",
      "            ..\n",
      "18,95,000    1\n",
      "14,50,000    1\n",
      "8,70,000     1\n",
      "2,42,000     1\n",
      "99,500       1\n",
      "Name: Price, Length: 232, dtype: int64\n",
      "--------------------------------------\n"
     ]
    }
   ],
   "source": [
    "# Checking unique values\n",
    "col = data.columns\n",
    "\n",
    "for i in col:\n",
    "    print(data[i].value_counts())\n",
    "    print(\"--------------------------------------\")"
   ]
  },
  {
   "cell_type": "markdown",
   "metadata": {},
   "source": [
    "#### Observation :\n",
    "\n",
    "1. We have a null values in dataset"
   ]
  },
  {
   "cell_type": "code",
   "execution_count": 42,
   "metadata": {},
   "outputs": [
    {
     "data": {
      "text/plain": [
       "Brand                 object\n",
       "Model                 object\n",
       "Variant               object\n",
       "Year                 float64\n",
       "driven kilometers    float64\n",
       "fuel                  object\n",
       "Transmission          object\n",
       "number of owners      object\n",
       "location              object\n",
       "Price                 object\n",
       "dtype: object"
      ]
     },
     "execution_count": 42,
     "metadata": {},
     "output_type": "execute_result"
    }
   ],
   "source": [
    "data.dtypes"
   ]
  },
  {
   "cell_type": "code",
   "execution_count": 60,
   "metadata": {},
   "outputs": [],
   "source": [
    "def casting(x):\n",
    "    first = ['1st','First','--','nan']\n",
    "    second = ['2nd','Second',]\n",
    "    third = ['3rd','Third']\n",
    "    four = ['4th','4+','Fourth']\n",
    "        \n",
    "    if x in first:\n",
    "        return 1\n",
    "    elif x in second:\n",
    "        return 2\n",
    "    elif x in third:\n",
    "        return 3\n",
    "    elif x in four:\n",
    "        return 4\n",
    "    else:\n",
    "        return 0"
   ]
  },
  {
   "cell_type": "code",
   "execution_count": 38,
   "metadata": {},
   "outputs": [],
   "source": [
    "data['driven kilometers'] = data['driven kilometers'].str.split(\" \").str[0].str.replace(\",\",\" \").str.strip()"
   ]
  },
  {
   "cell_type": "code",
   "execution_count": 41,
   "metadata": {},
   "outputs": [],
   "source": [
    "data['driven kilometers'] = data['driven kilometers'].astype(float)"
   ]
  },
  {
   "cell_type": "code",
   "execution_count": 49,
   "metadata": {},
   "outputs": [],
   "source": [
    "data['Price'] = data['Price'].str.replace(\",\",\"\").str.strip().astype(float)"
   ]
  },
  {
   "cell_type": "code",
   "execution_count": 65,
   "metadata": {},
   "outputs": [],
   "source": [
    "data['number of owners'] = data['number of owners'].apply(casting)"
   ]
  },
  {
   "cell_type": "code",
   "execution_count": 67,
   "metadata": {},
   "outputs": [
    {
     "data": {
      "text/html": [
       "<div>\n",
       "<style scoped>\n",
       "    .dataframe tbody tr th:only-of-type {\n",
       "        vertical-align: middle;\n",
       "    }\n",
       "\n",
       "    .dataframe tbody tr th {\n",
       "        vertical-align: top;\n",
       "    }\n",
       "\n",
       "    .dataframe thead th {\n",
       "        text-align: right;\n",
       "    }\n",
       "</style>\n",
       "<table border=\"1\" class=\"dataframe\">\n",
       "  <thead>\n",
       "    <tr style=\"text-align: right;\">\n",
       "      <th></th>\n",
       "      <th>Brand</th>\n",
       "      <th>Model</th>\n",
       "      <th>Variant</th>\n",
       "      <th>Year</th>\n",
       "      <th>driven kilometers</th>\n",
       "      <th>fuel</th>\n",
       "      <th>Transmission</th>\n",
       "      <th>number of owners</th>\n",
       "      <th>location</th>\n",
       "      <th>Price</th>\n",
       "    </tr>\n",
       "  </thead>\n",
       "  <tbody>\n",
       "    <tr>\n",
       "      <th>0</th>\n",
       "      <td>Mah</td>\n",
       "      <td>Logan</td>\n",
       "      <td>Others</td>\n",
       "      <td>2010.0</td>\n",
       "      <td>127000.0</td>\n",
       "      <td>DIESEL</td>\n",
       "      <td>MANUAL</td>\n",
       "      <td>1</td>\n",
       "      <td>Jaysingpur</td>\n",
       "      <td>250000.0</td>\n",
       "    </tr>\n",
       "    <tr>\n",
       "      <th>1</th>\n",
       "      <td>Hyundai</td>\n",
       "      <td>Santro X</td>\n",
       "      <td>NaN</td>\n",
       "      <td>2007.0</td>\n",
       "      <td>45000.0</td>\n",
       "      <td>PETROL</td>\n",
       "      <td>MANUAL</td>\n",
       "      <td>2</td>\n",
       "      <td>Coimbatore</td>\n",
       "      <td>210000.0</td>\n",
       "    </tr>\n",
       "    <tr>\n",
       "      <th>2</th>\n",
       "      <td>Ford</td>\n",
       "      <td>Ecosport</td>\n",
       "      <td>1.5 Diesel Trend</td>\n",
       "      <td>2015.0</td>\n",
       "      <td>20.0</td>\n",
       "      <td>DIESEL</td>\n",
       "      <td>MANUAL</td>\n",
       "      <td>2</td>\n",
       "      <td>Wardha</td>\n",
       "      <td>651000.0</td>\n",
       "    </tr>\n",
       "    <tr>\n",
       "      <th>3</th>\n",
       "      <td>Maruti Suzuki</td>\n",
       "      <td>Alto K10</td>\n",
       "      <td>VXI Airbag</td>\n",
       "      <td>2016.0</td>\n",
       "      <td>58734.0</td>\n",
       "      <td>PETROL</td>\n",
       "      <td>MANUAL</td>\n",
       "      <td>1</td>\n",
       "      <td>Bengaluru</td>\n",
       "      <td>330000.0</td>\n",
       "    </tr>\n",
       "    <tr>\n",
       "      <th>4</th>\n",
       "      <td>Maruti Suzuki</td>\n",
       "      <td>Swift Dzire Tour</td>\n",
       "      <td>LDI</td>\n",
       "      <td>2018.0</td>\n",
       "      <td>61000.0</td>\n",
       "      <td>DIESEL</td>\n",
       "      <td>MANUAL</td>\n",
       "      <td>1</td>\n",
       "      <td>Visakhapatnam</td>\n",
       "      <td>620000.0</td>\n",
       "    </tr>\n",
       "  </tbody>\n",
       "</table>\n",
       "</div>"
      ],
      "text/plain": [
       "            Brand              Model           Variant    Year  \\\n",
       "0             Mah             Logan             Others  2010.0   \n",
       "1        Hyundai            Santro X               NaN  2007.0   \n",
       "2           Ford           Ecosport   1.5 Diesel Trend  2015.0   \n",
       "3  Maruti Suzuki           Alto K10         VXI Airbag  2016.0   \n",
       "4  Maruti Suzuki   Swift Dzire Tour                LDI  2018.0   \n",
       "\n",
       "   driven kilometers    fuel Transmission  number of owners        location  \\\n",
       "0           127000.0  DIESEL       MANUAL                 1      Jaysingpur   \n",
       "1            45000.0  PETROL       MANUAL                 2      Coimbatore   \n",
       "2               20.0  DIESEL       MANUAL                 2          Wardha   \n",
       "3            58734.0  PETROL       MANUAL                 1       Bengaluru   \n",
       "4            61000.0  DIESEL       MANUAL                 1   Visakhapatnam   \n",
       "\n",
       "      Price  \n",
       "0  250000.0  \n",
       "1  210000.0  \n",
       "2  651000.0  \n",
       "3  330000.0  \n",
       "4  620000.0  "
      ]
     },
     "execution_count": 67,
     "metadata": {},
     "output_type": "execute_result"
    }
   ],
   "source": [
    "data.head()"
   ]
  },
  {
   "cell_type": "markdown",
   "metadata": {},
   "source": [
    "### Checking null values"
   ]
  },
  {
   "cell_type": "code",
   "execution_count": 68,
   "metadata": {},
   "outputs": [
    {
     "data": {
      "text/plain": [
       "Brand                20\n",
       "Model                20\n",
       "Variant              39\n",
       "Year                 20\n",
       "driven kilometers    20\n",
       "fuel                 20\n",
       "Transmission         20\n",
       "number of owners      0\n",
       "location             20\n",
       "Price                20\n",
       "dtype: int64"
      ]
     },
     "execution_count": 68,
     "metadata": {},
     "output_type": "execute_result"
    }
   ],
   "source": [
    "data.isnull().sum()"
   ]
  },
  {
   "cell_type": "markdown",
   "metadata": {},
   "source": [
    "**Observation :**\n",
    "    \n",
    "    Null value present in data we need to handle that."
   ]
  },
  {
   "cell_type": "code",
   "execution_count": 69,
   "metadata": {},
   "outputs": [
    {
     "data": {
      "text/html": [
       "<div>\n",
       "<style scoped>\n",
       "    .dataframe tbody tr th:only-of-type {\n",
       "        vertical-align: middle;\n",
       "    }\n",
       "\n",
       "    .dataframe tbody tr th {\n",
       "        vertical-align: top;\n",
       "    }\n",
       "\n",
       "    .dataframe thead th {\n",
       "        text-align: right;\n",
       "    }\n",
       "</style>\n",
       "<table border=\"1\" class=\"dataframe\">\n",
       "  <thead>\n",
       "    <tr style=\"text-align: right;\">\n",
       "      <th></th>\n",
       "      <th>Year</th>\n",
       "      <th>driven kilometers</th>\n",
       "      <th>number of owners</th>\n",
       "      <th>Price</th>\n",
       "    </tr>\n",
       "  </thead>\n",
       "  <tbody>\n",
       "    <tr>\n",
       "      <th>count</th>\n",
       "      <td>435.000000</td>\n",
       "      <td>435.000000</td>\n",
       "      <td>455.000000</td>\n",
       "      <td>4.350000e+02</td>\n",
       "    </tr>\n",
       "    <tr>\n",
       "      <th>mean</th>\n",
       "      <td>2013.494253</td>\n",
       "      <td>59407.303448</td>\n",
       "      <td>1.338462</td>\n",
       "      <td>6.190411e+05</td>\n",
       "    </tr>\n",
       "    <tr>\n",
       "      <th>std</th>\n",
       "      <td>3.949781</td>\n",
       "      <td>86002.166019</td>\n",
       "      <td>0.670125</td>\n",
       "      <td>7.321627e+05</td>\n",
       "    </tr>\n",
       "    <tr>\n",
       "      <th>min</th>\n",
       "      <td>1998.000000</td>\n",
       "      <td>1.000000</td>\n",
       "      <td>0.000000</td>\n",
       "      <td>1.500000e+04</td>\n",
       "    </tr>\n",
       "    <tr>\n",
       "      <th>25%</th>\n",
       "      <td>2011.000000</td>\n",
       "      <td>23000.000000</td>\n",
       "      <td>1.000000</td>\n",
       "      <td>2.450000e+05</td>\n",
       "    </tr>\n",
       "    <tr>\n",
       "      <th>50%</th>\n",
       "      <td>2014.000000</td>\n",
       "      <td>52000.000000</td>\n",
       "      <td>1.000000</td>\n",
       "      <td>4.100000e+05</td>\n",
       "    </tr>\n",
       "    <tr>\n",
       "      <th>75%</th>\n",
       "      <td>2017.000000</td>\n",
       "      <td>78000.000000</td>\n",
       "      <td>2.000000</td>\n",
       "      <td>6.875000e+05</td>\n",
       "    </tr>\n",
       "    <tr>\n",
       "      <th>max</th>\n",
       "      <td>2021.000000</td>\n",
       "      <td>999999.000000</td>\n",
       "      <td>4.000000</td>\n",
       "      <td>6.500000e+06</td>\n",
       "    </tr>\n",
       "  </tbody>\n",
       "</table>\n",
       "</div>"
      ],
      "text/plain": [
       "              Year  driven kilometers  number of owners         Price\n",
       "count   435.000000         435.000000        455.000000  4.350000e+02\n",
       "mean   2013.494253       59407.303448          1.338462  6.190411e+05\n",
       "std       3.949781       86002.166019          0.670125  7.321627e+05\n",
       "min    1998.000000           1.000000          0.000000  1.500000e+04\n",
       "25%    2011.000000       23000.000000          1.000000  2.450000e+05\n",
       "50%    2014.000000       52000.000000          1.000000  4.100000e+05\n",
       "75%    2017.000000       78000.000000          2.000000  6.875000e+05\n",
       "max    2021.000000      999999.000000          4.000000  6.500000e+06"
      ]
     },
     "execution_count": 69,
     "metadata": {},
     "output_type": "execute_result"
    }
   ],
   "source": [
    "### Statistical summary:\n",
    "data.describe()"
   ]
  },
  {
   "cell_type": "markdown",
   "metadata": {},
   "source": [
    "### Checking distribution of the data"
   ]
  },
  {
   "cell_type": "code",
   "execution_count": 70,
   "metadata": {},
   "outputs": [
    {
     "data": {
      "text/plain": [
       "<AxesSubplot:xlabel='driven kilometers', ylabel='Count'>"
      ]
     },
     "execution_count": 70,
     "metadata": {},
     "output_type": "execute_result"
    },
    {
     "data": {
      "image/png": "[encoded data removed]",
      "text/plain": [
       "<Figure size 432x288 with 1 Axes>"
      ]
     },
     "metadata": {
      "needs_background": "light"
     },
     "output_type": "display_data"
    }
   ],
   "source": [
    "sns.histplot(data['driven kilometers'],bins=50)"
   ]
  },
  {
   "cell_type": "code",
   "execution_count": 72,
   "metadata": {},
   "outputs": [
    {
     "name": "stderr",
     "output_type": "stream",
     "text": [
      "C:\\Users\\SIVA\\anaconda3\\lib\\site-packages\\seaborn\\distributions.py:2619: FutureWarning: `distplot` is a deprecated function and will be removed in a future version. Please adapt your code to use either `displot` (a figure-level function with similar flexibility) or `histplot` (an axes-level function for histograms).\n",
      "  warnings.warn(msg, FutureWarning)\n"
     ]
    },
    {
     "data": {
      "text/plain": [
       "<AxesSubplot:xlabel='Price', ylabel='Density'>"
      ]
     },
     "execution_count": 72,
     "metadata": {},
     "output_type": "execute_result"
    },
    {
     "data": {
      "image/png": "[encoded data removed]",
      "text/plain": [
       "<Figure size 432x288 with 1 Axes>"
      ]
     },
     "metadata": {
      "needs_background": "light"
     },
     "output_type": "display_data"
    }
   ],
   "source": [
    "sns.distplot(data['Price'],bins=100)"
   ]
  },
  {
   "cell_type": "code",
   "execution_count": 73,
   "metadata": {},
   "outputs": [
    {
     "data": {
      "text/plain": [
       "<AxesSubplot:xlabel='driven kilometers', ylabel='Price'>"
      ]
     },
     "execution_count": 73,
     "metadata": {},
     "output_type": "execute_result"
    },
    {
     "data": {
      "image/png": "[encoded data removed]",
      "text/plain": [
       "<Figure size 432x288 with 1 Axes>"
      ]
     },
     "metadata": {
      "needs_background": "light"
     },
     "output_type": "display_data"
    }
   ],
   "source": [
    "# relation between km and price\n",
    "\n",
    "sns.scatterplot(data=data,x='driven kilometers',y='Price')"
   ]
  },
  {
   "cell_type": "code",
   "execution_count": 30,
   "metadata": {},
   "outputs": [],
   "source": [
    "# We can clearly observe if km increse price will be decrese"
   ]
  },
  {
   "cell_type": "code",
   "execution_count": 74,
   "metadata": {},
   "outputs": [
    {
     "data": {
      "text/plain": [
       "fuel\n",
       "ELECTRIC                         7.500000e+04\n",
       "PETROL/COMPRESSED NATURAL GAS    1.690000e+05\n",
       "LPG                              1.800000e+05\n",
       "CNG                              3.583333e+05\n",
       "CNG & HYBRIDS                    3.865385e+05\n",
       "PETROL                           4.464897e+05\n",
       "DIESEL                           8.223420e+05\n",
       "--                               3.007500e+06\n",
       "Name: Price, dtype: float64"
      ]
     },
     "execution_count": 74,
     "metadata": {},
     "output_type": "execute_result"
    }
   ],
   "source": [
    "data.groupby(['fuel']).mean()['Price'].sort_values()"
   ]
  },
  {
   "cell_type": "markdown",
   "metadata": {},
   "source": [
    "We can observe some insights from the above data\n",
    "\n",
    "Electric car price more cost comparing all other fuels"
   ]
  },
  {
   "cell_type": "code",
   "execution_count": 75,
   "metadata": {},
   "outputs": [
    {
     "data": {
      "text/plain": [
       "<AxesSubplot:xlabel='Transmission'>"
      ]
     },
     "execution_count": 75,
     "metadata": {},
     "output_type": "execute_result"
    },
    {
     "data": {
      "image/png": "[encoded data removed]",
      "text/plain": [
       "<Figure size 432x288 with 1 Axes>"
      ]
     },
     "metadata": {
      "needs_background": "light"
     },
     "output_type": "display_data"
    }
   ],
   "source": [
    "data.groupby(['Transmission']).mean()['Price'].plot(kind='bar')"
   ]
  },
  {
   "cell_type": "markdown",
   "metadata": {},
   "source": [
    "Mostly Automatic transmission car selled in market"
   ]
  },
  {
   "cell_type": "code",
   "execution_count": null,
   "metadata": {},
   "outputs": [],
   "source": [
    "# Automatic car price is more"
   ]
  },
  {
   "cell_type": "code",
   "execution_count": 76,
   "metadata": {},
   "outputs": [
    {
     "data": {
      "text/plain": [
       "<AxesSubplot:xlabel='Year'>"
      ]
     },
     "execution_count": 76,
     "metadata": {},
     "output_type": "execute_result"
    },
    {
     "data": {
      "image/png": "[encoded data removed]",
      "text/plain": [
       "<Figure size 432x288 with 1 Axes>"
      ]
     },
     "metadata": {
      "needs_background": "light"
     },
     "output_type": "display_data"
    }
   ],
   "source": [
    "data.groupby(['Year']).mean()['Price'].plot(kind='bar')"
   ]
  },
  {
   "cell_type": "markdown",
   "metadata": {},
   "source": [
    "if latest car price will be more and old car price less."
   ]
  },
  {
   "cell_type": "markdown",
   "metadata": {},
   "source": [
    "### Feature Engineering\n",
    "\n",
    "- Handle null value\n",
    "\n",
    "- Remove outlier\n",
    "\n",
    "- corr\n",
    "\n",
    "- Label encoding \n",
    "\n",
    "- scaling the data"
   ]
  },
  {
   "cell_type": "code",
   "execution_count": 77,
   "metadata": {},
   "outputs": [],
   "source": [
    "from sklearn.impute import SimpleImputer"
   ]
  },
  {
   "cell_type": "code",
   "execution_count": 79,
   "metadata": {},
   "outputs": [],
   "source": [
    "imputer = SimpleImputer(strategy=\"constant\",fill_value='Unknown')\n",
    "data['Brand'] = imputer.fit_transform(data['Brand'].values.reshape(-1, 1))"
   ]
  },
  {
   "cell_type": "code",
   "execution_count": 80,
   "metadata": {},
   "outputs": [],
   "source": [
    "cat_list = ['Model','Variant','location']\n",
    "\n",
    "for i in cat_list:\n",
    "    data[i] = imputer.fit_transform(data[i].values.reshape(-1, 1))"
   ]
  },
  {
   "cell_type": "code",
   "execution_count": 82,
   "metadata": {},
   "outputs": [],
   "source": [
    "imputer = SimpleImputer(strategy=\"median\")\n",
    "data['number of owners'] = imputer.fit_transform(data['number of owners'].values.reshape(-1, 1))"
   ]
  },
  {
   "cell_type": "code",
   "execution_count": 83,
   "metadata": {},
   "outputs": [],
   "source": [
    "imputer = SimpleImputer(strategy=\"mean\")\n",
    "data['Price'] = imputer.fit_transform(data['Price'].values.reshape(-1, 1))"
   ]
  },
  {
   "cell_type": "code",
   "execution_count": 85,
   "metadata": {},
   "outputs": [],
   "source": [
    "Uniq_list = ['Year','driven kilometers','fuel','Transmission']\n",
    "imputer = SimpleImputer(strategy=\"most_frequent\")\n",
    "\n",
    "for i in Uniq_list:\n",
    "    data[i] = imputer.fit_transform(data[i].values.reshape(-1, 1))"
   ]
  },
  {
   "cell_type": "code",
   "execution_count": 49,
   "metadata": {},
   "outputs": [],
   "source": [
    "### All null values is handled as per the type of column"
   ]
  },
  {
   "cell_type": "code",
   "execution_count": 86,
   "metadata": {},
   "outputs": [
    {
     "data": {
      "text/plain": [
       "Brand                0\n",
       "Model                0\n",
       "Variant              0\n",
       "Year                 0\n",
       "driven kilometers    0\n",
       "fuel                 0\n",
       "Transmission         0\n",
       "number of owners     0\n",
       "location             0\n",
       "Price                0\n",
       "dtype: int64"
      ]
     },
     "execution_count": 86,
     "metadata": {},
     "output_type": "execute_result"
    }
   ],
   "source": [
    "data.isna().sum()"
   ]
  },
  {
   "cell_type": "markdown",
   "metadata": {},
   "source": [
    "## Lable Encoding the string variables"
   ]
  },
  {
   "cell_type": "code",
   "execution_count": 87,
   "metadata": {},
   "outputs": [],
   "source": [
    "cat_col = data.select_dtypes(\"object\").columns.values"
   ]
  },
  {
   "cell_type": "code",
   "execution_count": 88,
   "metadata": {},
   "outputs": [],
   "source": [
    "from sklearn.preprocessing import LabelEncoder\n",
    "label = LabelEncoder()"
   ]
  },
  {
   "cell_type": "code",
   "execution_count": 89,
   "metadata": {},
   "outputs": [
    {
     "data": {
      "text/html": [
       "<div>\n",
       "<style scoped>\n",
       "    .dataframe tbody tr th:only-of-type {\n",
       "        vertical-align: middle;\n",
       "    }\n",
       "\n",
       "    .dataframe tbody tr th {\n",
       "        vertical-align: top;\n",
       "    }\n",
       "\n",
       "    .dataframe thead th {\n",
       "        text-align: right;\n",
       "    }\n",
       "</style>\n",
       "<table border=\"1\" class=\"dataframe\">\n",
       "  <thead>\n",
       "    <tr style=\"text-align: right;\">\n",
       "      <th></th>\n",
       "      <th>Brand</th>\n",
       "      <th>Model</th>\n",
       "      <th>Variant</th>\n",
       "      <th>Year</th>\n",
       "      <th>driven kilometers</th>\n",
       "      <th>fuel</th>\n",
       "      <th>Transmission</th>\n",
       "      <th>number of owners</th>\n",
       "      <th>location</th>\n",
       "      <th>Price</th>\n",
       "    </tr>\n",
       "  </thead>\n",
       "  <tbody>\n",
       "    <tr>\n",
       "      <th>0</th>\n",
       "      <td>12</td>\n",
       "      <td>64</td>\n",
       "      <td>245</td>\n",
       "      <td>2010.0</td>\n",
       "      <td>127000.0</td>\n",
       "      <td>3</td>\n",
       "      <td>2</td>\n",
       "      <td>1.0</td>\n",
       "      <td>39</td>\n",
       "      <td>250000.0</td>\n",
       "    </tr>\n",
       "    <tr>\n",
       "      <th>1</th>\n",
       "      <td>6</td>\n",
       "      <td>92</td>\n",
       "      <td>274</td>\n",
       "      <td>2007.0</td>\n",
       "      <td>45000.0</td>\n",
       "      <td>6</td>\n",
       "      <td>2</td>\n",
       "      <td>2.0</td>\n",
       "      <td>18</td>\n",
       "      <td>210000.0</td>\n",
       "    </tr>\n",
       "    <tr>\n",
       "      <th>2</th>\n",
       "      <td>4</td>\n",
       "      <td>33</td>\n",
       "      <td>40</td>\n",
       "      <td>2015.0</td>\n",
       "      <td>20.0</td>\n",
       "      <td>3</td>\n",
       "      <td>2</td>\n",
       "      <td>2.0</td>\n",
       "      <td>104</td>\n",
       "      <td>651000.0</td>\n",
       "    </tr>\n",
       "    <tr>\n",
       "      <th>3</th>\n",
       "      <td>13</td>\n",
       "      <td>10</td>\n",
       "      <td>289</td>\n",
       "      <td>2016.0</td>\n",
       "      <td>58734.0</td>\n",
       "      <td>6</td>\n",
       "      <td>2</td>\n",
       "      <td>1.0</td>\n",
       "      <td>12</td>\n",
       "      <td>330000.0</td>\n",
       "    </tr>\n",
       "    <tr>\n",
       "      <th>4</th>\n",
       "      <td>13</td>\n",
       "      <td>100</td>\n",
       "      <td>229</td>\n",
       "      <td>2018.0</td>\n",
       "      <td>61000.0</td>\n",
       "      <td>3</td>\n",
       "      <td>2</td>\n",
       "      <td>1.0</td>\n",
       "      <td>103</td>\n",
       "      <td>620000.0</td>\n",
       "    </tr>\n",
       "  </tbody>\n",
       "</table>\n",
       "</div>"
      ],
      "text/plain": [
       "   Brand  Model  Variant    Year  driven kilometers  fuel  Transmission  \\\n",
       "0     12     64      245  2010.0           127000.0     3             2   \n",
       "1      6     92      274  2007.0            45000.0     6             2   \n",
       "2      4     33       40  2015.0               20.0     3             2   \n",
       "3     13     10      289  2016.0            58734.0     6             2   \n",
       "4     13    100      229  2018.0            61000.0     3             2   \n",
       "\n",
       "   number of owners  location     Price  \n",
       "0               1.0        39  250000.0  \n",
       "1               2.0        18  210000.0  \n",
       "2               2.0       104  651000.0  \n",
       "3               1.0        12  330000.0  \n",
       "4               1.0       103  620000.0  "
      ]
     },
     "execution_count": 89,
     "metadata": {},
     "output_type": "execute_result"
    }
   ],
   "source": [
    "for i in cat_col:\n",
    "    data[i] = label.fit_transform(data[i])\n",
    "    \n",
    "data.head()"
   ]
  },
  {
   "cell_type": "code",
   "execution_count": 91,
   "metadata": {},
   "outputs": [],
   "source": [
    "## Clean Data\n",
    "data.to_csv(r\"C:\\Users\\SIVA\\DataScientiest\\car_clean.csv\")"
   ]
  },
  {
   "cell_type": "markdown",
   "metadata": {},
   "source": [
    "### Spliting variable for traning and testing"
   ]
  },
  {
   "cell_type": "code",
   "execution_count": 92,
   "metadata": {},
   "outputs": [],
   "source": [
    "from sklearn.model_selection import train_test_split\n",
    "from sklearn.linear_model import LinearRegression\n",
    "from sklearn.linear_model import Lasso,Ridge\n",
    "from sklearn.metrics import r2_score,mean_squared_error,mean_absolute_error"
   ]
  },
  {
   "cell_type": "code",
   "execution_count": 93,
   "metadata": {},
   "outputs": [],
   "source": [
    "X= data.drop(columns=['Price'],axis=1)\n",
    "y = data['Price']"
   ]
  },
  {
   "cell_type": "code",
   "execution_count": 94,
   "metadata": {},
   "outputs": [
    {
     "data": {
      "text/plain": [
       "StandardScaler()"
      ]
     },
     "execution_count": 94,
     "metadata": {},
     "output_type": "execute_result"
    }
   ],
   "source": [
    "# Standarder Scaling\n",
    "from sklearn.preprocessing import StandardScaler\n",
    "\n",
    "scale = StandardScaler()\n",
    "scale.fit(X)"
   ]
  },
  {
   "cell_type": "code",
   "execution_count": 97,
   "metadata": {},
   "outputs": [
    {
     "name": "stdout",
     "output_type": "stream",
     "text": [
      "Best random state :199 and Test r2 score:0.5060695213729798\n"
     ]
    }
   ],
   "source": [
    "maxScore = 0\n",
    "maxRS = 0\n",
    "\n",
    "for i in range(1,200):\n",
    "    x_train,x_test,y_train,y_test=train_test_split(X,y,test_size=0.30,random_state=i)\n",
    "    lr = LinearRegression()\n",
    "    lr.fit(x_train,y_train)\n",
    "    pred_test = lr.predict(x_test)\n",
    "    score = r2_score(y_test,pred_test)\n",
    "    if score > maxScore:\n",
    "        maxScore = score\n",
    "        maxRS = i\n",
    "        \n",
    "print(f\"Best random state :{i} and Test r2 score:{maxScore}\")"
   ]
  },
  {
   "cell_type": "code",
   "execution_count": 98,
   "metadata": {},
   "outputs": [],
   "source": [
    "x_train,x_test,y_train,y_test=train_test_split(X,y,test_size=0.30,random_state=199)"
   ]
  },
  {
   "cell_type": "code",
   "execution_count": 110,
   "metadata": {},
   "outputs": [],
   "source": [
    "## Performance of model\n",
    "def performance(actual,prec):\n",
    "    print(\"error\")\n",
    "    print(\"Mean absolute error\",mean_absolute_error(actual,prec))\n",
    "    print(\"mean square error\",mean_squared_error(actual,prec))\n",
    "    print(\"R2 Score :\",r2_score(actual,prec))"
   ]
  },
  {
   "cell_type": "code",
   "execution_count": 112,
   "metadata": {},
   "outputs": [
    {
     "name": "stdout",
     "output_type": "stream",
     "text": [
      "error\n",
      "Mean absolute error 290444.52384481893\n",
      "mean square error 295613604373.5729\n",
      "R2 Score : 0.338089008868216\n"
     ]
    }
   ],
   "source": [
    "# Linear Regression\n",
    "lr = LinearRegression()\n",
    "lr.fit(x_train,y_train)\n",
    "prec =lr.predict(x_test)\n",
    "performance(y_test,prec)"
   ]
  },
  {
   "cell_type": "code",
   "execution_count": 113,
   "metadata": {},
   "outputs": [],
   "source": [
    "# Cross validation\n",
    "from sklearn.model_selection import cross_val_score"
   ]
  },
  {
   "cell_type": "code",
   "execution_count": 102,
   "metadata": {},
   "outputs": [
    {
     "data": {
      "text/plain": [
       "0.25990804976967796"
      ]
     },
     "execution_count": 102,
     "metadata": {},
     "output_type": "execute_result"
    }
   ],
   "source": [
    "cross_ls = cross_val_score(LinearRegression(),X,y,cv=10)\n",
    "cross_ls.mean()"
   ]
  },
  {
   "cell_type": "code",
   "execution_count": 103,
   "metadata": {},
   "outputs": [],
   "source": [
    "### Regularation Process\n",
    "from sklearn.linear_model import Lasso"
   ]
  },
  {
   "cell_type": "code",
   "execution_count": 104,
   "metadata": {},
   "outputs": [
    {
     "name": "stdout",
     "output_type": "stream",
     "text": [
      "error\n",
      "Mean absolute error 290444.52378582925\n",
      "mean square error 295613604310.3559\n",
      "R2 Score : 0.3380890090097657\n"
     ]
    }
   ],
   "source": [
    "# Lasso Regrssion\n",
    "le =Lasso(alpha=0.0001)\n",
    "le.fit(x_train,y_train)\n",
    "predict = le.predict(x_test)\n",
    "\n",
    "performance(y_test,predict)"
   ]
  },
  {
   "cell_type": "code",
   "execution_count": 105,
   "metadata": {},
   "outputs": [
    {
     "data": {
      "text/plain": [
       "0.2599080499564229"
      ]
     },
     "execution_count": 105,
     "metadata": {},
     "output_type": "execute_result"
    }
   ],
   "source": [
    "cross_Val = cross_val_score(le,X,y,cv=10)\n",
    "cross_Val.mean()"
   ]
  },
  {
   "cell_type": "markdown",
   "metadata": {},
   "source": [
    "### Saving the model"
   ]
  },
  {
   "cell_type": "code",
   "execution_count": 114,
   "metadata": {},
   "outputs": [],
   "source": [
    "import joblib"
   ]
  },
  {
   "cell_type": "code",
   "execution_count": 115,
   "metadata": {},
   "outputs": [],
   "source": [
    "Model_1 = joblib.dump(lr,\"Car_Price_prediction.obj\")"
   ]
  },
  {
   "cell_type": "code",
   "execution_count": null,
   "metadata": {},
   "outputs": [],
   "source": []
  }
 ],
 "metadata": {
  "kernelspec": {
   "display_name": "Python 3",
   "language": "python",
   "name": "python3"
  },
  "language_info": {
   "codemirror_mode": {
    "name": "ipython",
    "version": 3
   },
   "file_extension": ".py",
   "mimetype": "text/x-python",
   "name": "python",
   "nbconvert_exporter": "python",
   "pygments_lexer": "ipython3",
   "version": "3.8.5"
  }
 },
 "nbformat": 4,
 "nbformat_minor": 4
}
